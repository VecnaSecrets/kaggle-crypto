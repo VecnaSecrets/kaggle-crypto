{
 "cells": [
  {
   "cell_type": "code",
   "execution_count": 1,
   "metadata": {
    "collapsed": true
   },
   "outputs": [],
   "source": [
    "import torch as t\n",
    "from torch import nn\n",
    "import numpy as np\n",
    "import pandas as pd\n",
    "\n",
    "from utils import Pipeline_lstm\n",
    "from torch.utils.tensorboard import SummaryWriter\n",
    "\n",
    "import warnings\n",
    "warnings.simplefilter('ignore')\n",
    "DEVICE = 'cuda' if t.cuda.is_available() else 'cpu'"
   ]
  },
  {
   "cell_type": "code",
   "execution_count": 2,
   "outputs": [],
   "source": [
    "df = pd.read_csv('./train.csv', index_col=0)\n",
    "df_test = pd.read_csv('./test.csv', index_col=0)\n",
    "\n",
    "df_coin = df.loc[df['coin_id'] == 'coin_1']"
   ],
   "metadata": {
    "collapsed": false
   }
  },
  {
   "cell_type": "code",
   "execution_count": 3,
   "outputs": [],
   "source": [
    "features = ['feat_1', 'feat_2', 'feat_3', 'feat_4', 'feat_5', 'feat_8', 'feat_9', 'feat_10']\n",
    "lookback=30\n",
    "\n",
    "train_split = 0.8\n",
    "split_ind = int(df_coin.shape[0] * train_split)\n",
    "\n",
    "X_train = df_coin[features].iloc[:split_ind]\n",
    "X_test = df_coin[features].iloc[split_ind:]\n",
    "\n",
    "y_train = df_coin['fwd_ret_3d'].iloc[:split_ind]\n",
    "y_test = df_coin['fwd_ret_3d'].iloc[split_ind:]\n",
    "\n",
    "pipe = Pipeline_lstm(lookback=lookback)\n",
    "train_ds = pipe.fit_transform(X_train, y_train)\n",
    "val_ds = pipe.transform(X_test, y_test)"
   ],
   "metadata": {
    "collapsed": false
   }
  },
  {
   "cell_type": "code",
   "execution_count": 4,
   "outputs": [],
   "source": [
    "class ConvModel(nn.Module):\n",
    "    def __init__(self, channels=5):\n",
    "        super().__init__()\n",
    "        self.conv = t.nn.Sequential(\n",
    "            t.nn.Conv1d(channels, 16, 3, padding=1),\n",
    "            t.nn.BatchNorm1d(16),\n",
    "            t.nn.ReLU(),\n",
    "\n",
    "            # t.nn.Conv1d(16, 32, 3, padding=1),\n",
    "            # t.nn.BatchNorm1d(32),\n",
    "            # t.nn.ReLU(),\n",
    "\n",
    "            t.nn.Flatten(),\n",
    "            t.nn.Linear(128, 1),\n",
    "        )\n",
    "        self.conv[0].bias.data.fill_(0.1)\n",
    "        self.conv[0].weight.data.fill_(0.1)\n",
    "        self.conv[-1].bias.data.fill_(0.1)\n",
    "        self.conv[-1].weight.data.fill_(0.1)\n",
    "\n",
    "    def forward(self, x):\n",
    "        return self.conv(x)"
   ],
   "metadata": {
    "collapsed": false
   }
  },
  {
   "cell_type": "code",
   "execution_count": 5,
   "outputs": [
    {
     "name": "stderr",
     "output_type": "stream",
     "text": [
      "2023-01-17 19:44:32.506107: I tensorflow/core/platform/cpu_feature_guard.cc:193] This TensorFlow binary is optimized with oneAPI Deep Neural Network Library (oneDNN) to use the following CPU instructions in performance-critical operations:  SSE4.1 SSE4.2 AVX AVX2 AVX_VNNI FMA\n",
      "To enable them in other operations, rebuild TensorFlow with the appropriate compiler flags.\n",
      "Train Loss: 0.86; Val Loss: 0.92: 100%|██████████| 1800/1800 [00:06<00:00, 264.28it/s]\n"
     ]
    }
   ],
   "source": [
    "from train_tools import TrainModel_NoLoader, pearson_c\n",
    "\n",
    "model_conv = ConvModel(lookback).to(device=DEVICE)\n",
    "\n",
    "lr = 5e-5\n",
    "optimizer = t.optim.Adam(model_conv.parameters(),\n",
    "                         lr=lr)\n",
    "writer = SummaryWriter('./runs/1dConv/')\n",
    "epochs=1800\n",
    "\n",
    "_ = TrainModel_NoLoader(model=model_conv,\n",
    "                        loss_fn=pearson_c,\n",
    "                        optimizer=optimizer,\n",
    "                        train_ds=train_ds,\n",
    "                        val_ds=val_ds,\n",
    "                        epochs=epochs,\n",
    "                        display_on_epoch = 1,\n",
    "                        device=DEVICE,\n",
    "                        writer=writer)"
   ],
   "metadata": {
    "collapsed": false
   }
  },
  {
   "cell_type": "code",
   "execution_count": 7,
   "outputs": [],
   "source": [
    "from SeparatePredictor import Conv1dPredictor\n",
    "\n",
    "lookback = 30\n",
    "epochs=2000\n",
    "features = ['feat_1', 'feat_2', 'feat_3', 'feat_4', 'feat_5', 'feat_8', 'feat_9', 'feat_10']\n",
    "\n",
    "predictor = Conv1dPredictor(models=[ConvModel],\n",
    "                            data=df,\n",
    "                            params={'channels': lookback},\n",
    "                            lookback=lookback,\n",
    "                            device=DEVICE,\n",
    "                            relevant_features=features)\n",
    "predictor.prepare()"
   ],
   "metadata": {
    "collapsed": false
   }
  },
  {
   "cell_type": "code",
   "execution_count": 7,
   "outputs": [],
   "source": [],
   "metadata": {
    "collapsed": false
   }
  },
  {
   "cell_type": "code",
   "execution_count": 8,
   "outputs": [],
   "source": [
    "import json\n",
    "\n",
    "with open('./epoch_shedule.json', 'r') as f:\n",
    "    epoch_shedule = json.load(f)"
   ],
   "metadata": {
    "collapsed": false
   }
  },
  {
   "cell_type": "code",
   "execution_count": 9,
   "outputs": [
    {
     "name": "stdout",
     "output_type": "stream",
     "text": [
      "TRAINING fcoin_1\n"
     ]
    },
    {
     "name": "stderr",
     "output_type": "stream",
     "text": [
      "Train Loss: 0.86; Val Loss: 0.92: 100%|██████████| 1800/1800 [00:04<00:00, 382.95it/s]\n"
     ]
    },
    {
     "name": "stdout",
     "output_type": "stream",
     "text": [
      "TRAINING fcoin_2\n"
     ]
    },
    {
     "name": "stderr",
     "output_type": "stream",
     "text": [
      "Train Loss: 0.99; Val Loss: 1.00: 100%|██████████| 500/500 [00:01<00:00, 453.35it/s]\n"
     ]
    },
    {
     "name": "stdout",
     "output_type": "stream",
     "text": [
      "TRAINING fcoin_3\n"
     ]
    },
    {
     "name": "stderr",
     "output_type": "stream",
     "text": [
      "Train Loss: 0.99; Val Loss: 0.95: 100%|██████████| 370/370 [00:00<00:00, 449.86it/s]\n"
     ]
    },
    {
     "name": "stdout",
     "output_type": "stream",
     "text": [
      "TRAINING fcoin_4\n"
     ]
    },
    {
     "name": "stderr",
     "output_type": "stream",
     "text": [
      "Train Loss: 0.90; Val Loss: 0.95: 100%|██████████| 1690/1690 [00:04<00:00, 410.24it/s]\n"
     ]
    },
    {
     "name": "stdout",
     "output_type": "stream",
     "text": [
      "TRAINING fcoin_5\n"
     ]
    },
    {
     "name": "stderr",
     "output_type": "stream",
     "text": [
      "Train Loss: 0.98; Val Loss: 1.00: 100%|██████████| 370/370 [00:00<00:00, 443.62it/s]\n"
     ]
    },
    {
     "name": "stdout",
     "output_type": "stream",
     "text": [
      "TRAINING fcoin_6\n"
     ]
    },
    {
     "name": "stderr",
     "output_type": "stream",
     "text": [
      "Train Loss: 0.98; Val Loss: 0.96: 100%|██████████| 690/690 [00:01<00:00, 431.74it/s]\n"
     ]
    },
    {
     "name": "stdout",
     "output_type": "stream",
     "text": [
      "TRAINING fcoin_7\n"
     ]
    },
    {
     "name": "stderr",
     "output_type": "stream",
     "text": [
      "Train Loss: 0.81; Val Loss: 0.99: 100%|██████████| 2500/2500 [00:06<00:00, 400.57it/s]\n"
     ]
    },
    {
     "name": "stdout",
     "output_type": "stream",
     "text": [
      "TRAINING fcoin_8\n"
     ]
    },
    {
     "name": "stderr",
     "output_type": "stream",
     "text": [
      "Train Loss: 0.85; Val Loss: 0.99: 100%|██████████| 1500/1500 [00:04<00:00, 364.09it/s]\n"
     ]
    },
    {
     "name": "stdout",
     "output_type": "stream",
     "text": [
      "TRAINING fcoin_9\n"
     ]
    },
    {
     "name": "stderr",
     "output_type": "stream",
     "text": [
      "Train Loss: 0.99; Val Loss: 0.95: 100%|██████████| 980/980 [00:02<00:00, 390.32it/s]\n"
     ]
    },
    {
     "name": "stdout",
     "output_type": "stream",
     "text": [
      "TRAINING fcoin_10\n"
     ]
    },
    {
     "name": "stderr",
     "output_type": "stream",
     "text": [
      "Train Loss: 0.94; Val Loss: 0.95: 100%|██████████| 1300/1300 [00:03<00:00, 355.04it/s]\n"
     ]
    },
    {
     "name": "stdout",
     "output_type": "stream",
     "text": [
      "TRAINING fcoin_11\n"
     ]
    },
    {
     "name": "stderr",
     "output_type": "stream",
     "text": [
      "Train Loss: 0.74; Val Loss: 1.00: 100%|██████████| 2500/2500 [00:07<00:00, 336.30it/s]\n"
     ]
    },
    {
     "name": "stdout",
     "output_type": "stream",
     "text": [
      "TRAINING fcoin_12\n"
     ]
    },
    {
     "name": "stderr",
     "output_type": "stream",
     "text": [
      "Train Loss: 0.91; Val Loss: 0.97: 100%|██████████| 1400/1400 [00:04<00:00, 321.72it/s]\n"
     ]
    },
    {
     "name": "stdout",
     "output_type": "stream",
     "text": [
      "TRAINING fcoin_13\n"
     ]
    },
    {
     "name": "stderr",
     "output_type": "stream",
     "text": [
      "Train Loss: 0.95; Val Loss: 1.00: 100%|██████████| 1020/1020 [00:03<00:00, 332.09it/s]\n"
     ]
    },
    {
     "name": "stdout",
     "output_type": "stream",
     "text": [
      "TRAINING fcoin_14\n"
     ]
    },
    {
     "name": "stderr",
     "output_type": "stream",
     "text": [
      "Train Loss: 0.94; Val Loss: 0.97: 100%|██████████| 1080/1080 [00:03<00:00, 337.86it/s]\n"
     ]
    },
    {
     "name": "stdout",
     "output_type": "stream",
     "text": [
      "TRAINING fcoin_15\n"
     ]
    },
    {
     "name": "stderr",
     "output_type": "stream",
     "text": [
      "Train Loss: 0.87; Val Loss: 0.97: 100%|██████████| 2100/2100 [00:05<00:00, 370.86it/s]\n"
     ]
    },
    {
     "name": "stdout",
     "output_type": "stream",
     "text": [
      "TRAINING fcoin_16\n"
     ]
    },
    {
     "name": "stderr",
     "output_type": "stream",
     "text": [
      "Train Loss: 0.88; Val Loss: 0.97: 100%|██████████| 2100/2100 [00:05<00:00, 352.27it/s]\n"
     ]
    },
    {
     "name": "stdout",
     "output_type": "stream",
     "text": [
      "TRAINING fcoin_17\n"
     ]
    },
    {
     "name": "stderr",
     "output_type": "stream",
     "text": [
      "Train Loss: 0.88; Val Loss: 0.94: 100%|██████████| 2200/2200 [00:06<00:00, 361.53it/s]\n"
     ]
    },
    {
     "name": "stdout",
     "output_type": "stream",
     "text": [
      "TRAINING fcoin_18\n"
     ]
    },
    {
     "name": "stderr",
     "output_type": "stream",
     "text": [
      "Train Loss: 0.96; Val Loss: 0.95: 100%|██████████| 650/650 [00:01<00:00, 392.16it/s]\n"
     ]
    },
    {
     "name": "stdout",
     "output_type": "stream",
     "text": [
      "TRAINING fcoin_19\n"
     ]
    },
    {
     "name": "stderr",
     "output_type": "stream",
     "text": [
      "Train Loss: 0.94; Val Loss: 0.99: 100%|██████████| 1600/1600 [00:04<00:00, 333.73it/s]\n"
     ]
    },
    {
     "name": "stdout",
     "output_type": "stream",
     "text": [
      "TRAINING fcoin_20\n"
     ]
    },
    {
     "name": "stderr",
     "output_type": "stream",
     "text": [
      "Train Loss: 0.73; Val Loss: 0.95: 100%|██████████| 2200/2200 [00:06<00:00, 332.57it/s]\n"
     ]
    },
    {
     "name": "stdout",
     "output_type": "stream",
     "text": [
      "TRAINING fcoin_21\n"
     ]
    },
    {
     "name": "stderr",
     "output_type": "stream",
     "text": [
      "Train Loss: 0.85; Val Loss: 0.83: 100%|██████████| 1900/1900 [00:05<00:00, 334.10it/s]\n"
     ]
    },
    {
     "name": "stdout",
     "output_type": "stream",
     "text": [
      "TRAINING fcoin_22\n"
     ]
    },
    {
     "name": "stderr",
     "output_type": "stream",
     "text": [
      "Train Loss: 0.91; Val Loss: 0.98: 100%|██████████| 1150/1150 [00:03<00:00, 341.74it/s]\n"
     ]
    },
    {
     "name": "stdout",
     "output_type": "stream",
     "text": [
      "TRAINING fcoin_23\n"
     ]
    },
    {
     "name": "stderr",
     "output_type": "stream",
     "text": [
      "Train Loss: 0.90; Val Loss: 0.99: 100%|██████████| 1500/1500 [00:04<00:00, 360.89it/s]\n"
     ]
    },
    {
     "name": "stdout",
     "output_type": "stream",
     "text": [
      "TRAINING fcoin_24\n"
     ]
    },
    {
     "name": "stderr",
     "output_type": "stream",
     "text": [
      "Train Loss: 0.99; Val Loss: 0.99: 100%|██████████| 500/500 [00:01<00:00, 327.13it/s]\n"
     ]
    },
    {
     "name": "stdout",
     "output_type": "stream",
     "text": [
      "TRAINING fcoin_25\n"
     ]
    },
    {
     "name": "stderr",
     "output_type": "stream",
     "text": [
      "Train Loss: 0.83; Val Loss: 0.97: 100%|██████████| 2300/2300 [00:06<00:00, 365.15it/s]\n"
     ]
    },
    {
     "name": "stdout",
     "output_type": "stream",
     "text": [
      "TRAINING fcoin_26\n"
     ]
    },
    {
     "name": "stderr",
     "output_type": "stream",
     "text": [
      "Train Loss: 0.98; Val Loss: 0.99: 100%|██████████| 500/500 [00:01<00:00, 375.82it/s]\n"
     ]
    },
    {
     "name": "stdout",
     "output_type": "stream",
     "text": [
      "TRAINING fcoin_27\n"
     ]
    },
    {
     "name": "stderr",
     "output_type": "stream",
     "text": [
      "Train Loss: 0.96; Val Loss: 0.88: 100%|██████████| 1500/1500 [00:04<00:00, 358.10it/s]\n"
     ]
    },
    {
     "name": "stdout",
     "output_type": "stream",
     "text": [
      "TRAINING fcoin_28\n"
     ]
    },
    {
     "name": "stderr",
     "output_type": "stream",
     "text": [
      "Train Loss: 0.99; Val Loss: 0.99: 100%|██████████| 500/500 [00:01<00:00, 384.47it/s]\n"
     ]
    },
    {
     "name": "stdout",
     "output_type": "stream",
     "text": [
      "TRAINING fcoin_29\n"
     ]
    },
    {
     "name": "stderr",
     "output_type": "stream",
     "text": [
      "Train Loss: 0.88; Val Loss: 0.97: 100%|██████████| 2200/2200 [00:05<00:00, 370.49it/s]\n"
     ]
    },
    {
     "name": "stdout",
     "output_type": "stream",
     "text": [
      "TRAINING fcoin_30\n"
     ]
    },
    {
     "name": "stderr",
     "output_type": "stream",
     "text": [
      "Train Loss: 0.84; Val Loss: 1.00: 100%|██████████| 2200/2200 [00:06<00:00, 356.09it/s]\n"
     ]
    },
    {
     "name": "stdout",
     "output_type": "stream",
     "text": [
      "TRAINING fcoin_31\n"
     ]
    },
    {
     "name": "stderr",
     "output_type": "stream",
     "text": [
      "Train Loss: 0.95; Val Loss: 0.83: 100%|██████████| 1700/1700 [00:05<00:00, 331.55it/s]\n"
     ]
    },
    {
     "name": "stdout",
     "output_type": "stream",
     "text": [
      "TRAINING fcoin_32\n"
     ]
    },
    {
     "name": "stderr",
     "output_type": "stream",
     "text": [
      "Train Loss: 0.92; Val Loss: 0.92: 100%|██████████| 1500/1500 [00:04<00:00, 356.12it/s]\n"
     ]
    },
    {
     "name": "stdout",
     "output_type": "stream",
     "text": [
      "TRAINING fcoin_33\n"
     ]
    },
    {
     "name": "stderr",
     "output_type": "stream",
     "text": [
      "Train Loss: 0.99; Val Loss: 1.00: 100%|██████████| 500/500 [00:01<00:00, 336.33it/s]\n"
     ]
    },
    {
     "name": "stdout",
     "output_type": "stream",
     "text": [
      "TRAINING fcoin_34\n"
     ]
    },
    {
     "name": "stderr",
     "output_type": "stream",
     "text": [
      "Train Loss: 0.80; Val Loss: 0.97: 100%|██████████| 2400/2400 [00:06<00:00, 373.43it/s]\n"
     ]
    },
    {
     "name": "stdout",
     "output_type": "stream",
     "text": [
      "TRAINING fcoin_35\n"
     ]
    },
    {
     "name": "stderr",
     "output_type": "stream",
     "text": [
      "Train Loss: 0.98; Val Loss: 0.95: 100%|██████████| 600/600 [00:01<00:00, 375.82it/s]\n"
     ]
    },
    {
     "name": "stdout",
     "output_type": "stream",
     "text": [
      "TRAINING fcoin_36\n"
     ]
    },
    {
     "name": "stderr",
     "output_type": "stream",
     "text": [
      "Train Loss: 0.91; Val Loss: 0.98: 100%|██████████| 1500/1500 [00:04<00:00, 330.08it/s]\n"
     ]
    },
    {
     "name": "stdout",
     "output_type": "stream",
     "text": [
      "TRAINING fcoin_37\n"
     ]
    },
    {
     "name": "stderr",
     "output_type": "stream",
     "text": [
      "Train Loss: 0.90; Val Loss: 0.93: 100%|██████████| 2300/2300 [00:06<00:00, 329.89it/s]\n"
     ]
    },
    {
     "name": "stdout",
     "output_type": "stream",
     "text": [
      "TRAINING fcoin_38\n"
     ]
    },
    {
     "name": "stderr",
     "output_type": "stream",
     "text": [
      "Train Loss: 0.88; Val Loss: 0.89: 100%|██████████| 1250/1250 [00:04<00:00, 311.99it/s]\n"
     ]
    },
    {
     "name": "stdout",
     "output_type": "stream",
     "text": [
      "TRAINING fcoin_39\n"
     ]
    },
    {
     "name": "stderr",
     "output_type": "stream",
     "text": [
      "Train Loss: 0.96; Val Loss: 0.98: 100%|██████████| 1600/1600 [00:04<00:00, 331.28it/s]\n"
     ]
    },
    {
     "name": "stdout",
     "output_type": "stream",
     "text": [
      "TRAINING fcoin_40\n"
     ]
    },
    {
     "name": "stderr",
     "output_type": "stream",
     "text": [
      "Train Loss: 0.99; Val Loss: 0.99: 100%|██████████| 500/500 [00:01<00:00, 322.71it/s]\n"
     ]
    },
    {
     "name": "stdout",
     "output_type": "stream",
     "text": [
      "TRAINING fcoin_41\n"
     ]
    },
    {
     "name": "stderr",
     "output_type": "stream",
     "text": [
      "Train Loss: 0.98; Val Loss: 0.97: 100%|██████████| 800/800 [00:02<00:00, 340.94it/s]\n"
     ]
    },
    {
     "name": "stdout",
     "output_type": "stream",
     "text": [
      "TRAINING fcoin_42\n"
     ]
    },
    {
     "name": "stderr",
     "output_type": "stream",
     "text": [
      "Train Loss: 0.95; Val Loss: 0.90: 100%|██████████| 1200/1200 [00:03<00:00, 315.61it/s]\n"
     ]
    },
    {
     "name": "stdout",
     "output_type": "stream",
     "text": [
      "TRAINING fcoin_43\n"
     ]
    },
    {
     "name": "stderr",
     "output_type": "stream",
     "text": [
      "Train Loss: 0.83; Val Loss: 0.98: 100%|██████████| 2300/2300 [00:06<00:00, 354.01it/s]\n"
     ]
    },
    {
     "name": "stdout",
     "output_type": "stream",
     "text": [
      "TRAINING fcoin_44\n"
     ]
    },
    {
     "name": "stderr",
     "output_type": "stream",
     "text": [
      "Train Loss: 0.83; Val Loss: 0.99: 100%|██████████| 1500/1500 [00:04<00:00, 337.60it/s]\n"
     ]
    },
    {
     "name": "stdout",
     "output_type": "stream",
     "text": [
      "TRAINING fcoin_45\n"
     ]
    },
    {
     "name": "stderr",
     "output_type": "stream",
     "text": [
      "Train Loss: 0.80; Val Loss: 0.97: 100%|██████████| 2200/2200 [00:06<00:00, 341.15it/s]\n"
     ]
    },
    {
     "name": "stdout",
     "output_type": "stream",
     "text": [
      "TRAINING fcoin_46\n"
     ]
    },
    {
     "name": "stderr",
     "output_type": "stream",
     "text": [
      "Train Loss: 0.88; Val Loss: 0.92: 100%|██████████| 1700/1700 [00:05<00:00, 339.38it/s]\n"
     ]
    },
    {
     "name": "stdout",
     "output_type": "stream",
     "text": [
      "TRAINING fcoin_47\n"
     ]
    },
    {
     "name": "stderr",
     "output_type": "stream",
     "text": [
      "Train Loss: 0.81; Val Loss: 0.92: 100%|██████████| 2500/2500 [00:07<00:00, 353.99it/s]\n"
     ]
    },
    {
     "name": "stdout",
     "output_type": "stream",
     "text": [
      "TRAINING fcoin_48\n"
     ]
    },
    {
     "name": "stderr",
     "output_type": "stream",
     "text": [
      "Train Loss: 0.95; Val Loss: 0.96: 100%|██████████| 500/500 [00:01<00:00, 430.45it/s]\n"
     ]
    },
    {
     "name": "stdout",
     "output_type": "stream",
     "text": [
      "TRAINING fcoin_49\n"
     ]
    },
    {
     "name": "stderr",
     "output_type": "stream",
     "text": [
      "Train Loss: 0.96; Val Loss: 0.99: 100%|██████████| 500/500 [00:01<00:00, 456.84it/s]\n"
     ]
    },
    {
     "name": "stdout",
     "output_type": "stream",
     "text": [
      "TRAINING fcoin_50\n"
     ]
    },
    {
     "name": "stderr",
     "output_type": "stream",
     "text": [
      "Train Loss: 0.97; Val Loss: 1.00: 100%|██████████| 500/500 [00:01<00:00, 465.31it/s]\n"
     ]
    },
    {
     "name": "stdout",
     "output_type": "stream",
     "text": [
      "TRAINING fcoin_51\n"
     ]
    },
    {
     "name": "stderr",
     "output_type": "stream",
     "text": [
      "Train Loss: 0.83; Val Loss: 0.98: 100%|██████████| 2100/2100 [00:04<00:00, 450.02it/s]\n"
     ]
    },
    {
     "name": "stdout",
     "output_type": "stream",
     "text": [
      "TRAINING fcoin_52\n"
     ]
    },
    {
     "name": "stderr",
     "output_type": "stream",
     "text": [
      "Train Loss: 0.99; Val Loss: 0.96: 100%|██████████| 915/915 [00:02<00:00, 410.26it/s]\n"
     ]
    },
    {
     "name": "stdout",
     "output_type": "stream",
     "text": [
      "TRAINING fcoin_53\n"
     ]
    },
    {
     "name": "stderr",
     "output_type": "stream",
     "text": [
      "Train Loss: 0.83; Val Loss: 0.94: 100%|██████████| 2300/2300 [00:05<00:00, 450.59it/s]\n"
     ]
    },
    {
     "name": "stdout",
     "output_type": "stream",
     "text": [
      "TRAINING fcoin_54\n"
     ]
    },
    {
     "name": "stderr",
     "output_type": "stream",
     "text": [
      "Train Loss: 0.96; Val Loss: 0.99: 100%|██████████| 500/500 [00:01<00:00, 304.15it/s]\n"
     ]
    },
    {
     "name": "stdout",
     "output_type": "stream",
     "text": [
      "TRAINING fcoin_55\n"
     ]
    },
    {
     "name": "stderr",
     "output_type": "stream",
     "text": [
      "Train Loss: 0.98; Val Loss: 0.98: 100%|██████████| 780/780 [00:01<00:00, 415.92it/s]\n"
     ]
    },
    {
     "name": "stdout",
     "output_type": "stream",
     "text": [
      "TRAINING fcoin_56\n"
     ]
    },
    {
     "name": "stderr",
     "output_type": "stream",
     "text": [
      "Train Loss: 0.98; Val Loss: 0.98: 100%|██████████| 500/500 [00:01<00:00, 480.39it/s]\n"
     ]
    },
    {
     "name": "stdout",
     "output_type": "stream",
     "text": [
      "TRAINING fcoin_57\n"
     ]
    },
    {
     "name": "stderr",
     "output_type": "stream",
     "text": [
      "Train Loss: 0.89; Val Loss: 0.98: 100%|██████████| 1380/1380 [00:03<00:00, 458.15it/s]\n"
     ]
    },
    {
     "name": "stdout",
     "output_type": "stream",
     "text": [
      "TRAINING fcoin_58\n"
     ]
    },
    {
     "name": "stderr",
     "output_type": "stream",
     "text": [
      "Train Loss: 0.90; Val Loss: 1.00: 100%|██████████| 2400/2400 [00:05<00:00, 430.11it/s]\n"
     ]
    },
    {
     "name": "stdout",
     "output_type": "stream",
     "text": [
      "TRAINING fcoin_59\n"
     ]
    },
    {
     "name": "stderr",
     "output_type": "stream",
     "text": [
      "Train Loss: 0.89; Val Loss: 1.00: 100%|██████████| 2300/2300 [00:05<00:00, 446.47it/s]\n"
     ]
    },
    {
     "name": "stdout",
     "output_type": "stream",
     "text": [
      "TRAINING fcoin_60\n"
     ]
    },
    {
     "name": "stderr",
     "output_type": "stream",
     "text": [
      "Train Loss: 0.99; Val Loss: 0.98: 100%|██████████| 800/800 [00:02<00:00, 391.65it/s]\n"
     ]
    },
    {
     "name": "stdout",
     "output_type": "stream",
     "text": [
      "TRAINING fcoin_61\n"
     ]
    },
    {
     "name": "stderr",
     "output_type": "stream",
     "text": [
      "Train Loss: 1.00; Val Loss: 0.88: 100%|██████████| 200/200 [00:00<00:00, 437.94it/s]\n"
     ]
    },
    {
     "name": "stdout",
     "output_type": "stream",
     "text": [
      "TRAINING fcoin_62\n"
     ]
    },
    {
     "name": "stderr",
     "output_type": "stream",
     "text": [
      "Train Loss: 0.88; Val Loss: 0.97: 100%|██████████| 2100/2100 [00:04<00:00, 452.30it/s]\n"
     ]
    },
    {
     "name": "stdout",
     "output_type": "stream",
     "text": [
      "TRAINING fcoin_63\n"
     ]
    },
    {
     "name": "stderr",
     "output_type": "stream",
     "text": [
      "Train Loss: 0.80; Val Loss: 0.97: 100%|██████████| 2000/2000 [00:04<00:00, 452.04it/s]\n"
     ]
    },
    {
     "name": "stdout",
     "output_type": "stream",
     "text": [
      "TRAINING fcoin_64\n"
     ]
    },
    {
     "name": "stderr",
     "output_type": "stream",
     "text": [
      "Train Loss: 0.82; Val Loss: 0.91: 100%|██████████| 2500/2500 [00:05<00:00, 435.38it/s]\n"
     ]
    },
    {
     "name": "stdout",
     "output_type": "stream",
     "text": [
      "TRAINING fcoin_65\n"
     ]
    },
    {
     "name": "stderr",
     "output_type": "stream",
     "text": [
      "Train Loss: 0.99; Val Loss: 0.93: 100%|██████████| 800/800 [00:01<00:00, 419.83it/s]\n"
     ]
    }
   ],
   "source": [
    "train_params={\n",
    "    'display_on_epoch':1\n",
    "}\n",
    "predictor.train(device=DEVICE,\n",
    "                epochs=epochs,\n",
    "                loss_fn=pearson_c,\n",
    "                learning_rate=lr,\n",
    "                epoch_shedule=epoch_shedule,\n",
    "                other_train_params=train_params)"
   ],
   "metadata": {
    "collapsed": false
   }
  },
  {
   "cell_type": "code",
   "execution_count": 10,
   "outputs": [
    {
     "data": {
      "text/plain": "tensor([[1.0000, 0.0395],\n        [0.0395, 1.0000]], dtype=torch.float64)"
     },
     "execution_count": 10,
     "metadata": {},
     "output_type": "execute_result"
    }
   ],
   "source": [
    "ind = 28800\n",
    "y_preds = predictor.predict(df.iloc[ind:], device='cuda')\n",
    "t.corrcoef(t.concat([\n",
    "    t.tensor(df.iloc[ind:]['fwd_ret_3d'].values).reshape(-1,1).T,\n",
    "    t.tensor(y_preds.values).reshape(-1,1).T\n",
    "], dim=0)\n",
    ")\n"
   ],
   "metadata": {
    "collapsed": false
   }
  },
  {
   "cell_type": "code",
   "execution_count": 11,
   "outputs": [],
   "source": [
    "from datetime import datetime\n",
    "y_pred = predictor.predict(df_test, DEVICE)\n",
    "y_pred['Id'] = y_pred.index\n",
    "y_pred['Predicted'] = y_pred[0]\n",
    "y_pred.to_csv('./submission_{}.csv'.format(datetime.now().timestamp()),\n",
    "              columns=['Id', 'Predicted'], index=False)"
   ],
   "metadata": {
    "collapsed": false
   }
  },
  {
   "cell_type": "code",
   "execution_count": 12,
   "outputs": [
    {
     "data": {
      "text/plain": "1673970528.584036"
     },
     "execution_count": 12,
     "metadata": {},
     "output_type": "execute_result"
    }
   ],
   "source": [
    "import datetime\n",
    "datetime.datetime.now().timestamp()"
   ],
   "metadata": {
    "collapsed": false
   }
  }
 ],
 "metadata": {
  "kernelspec": {
   "display_name": "Python 3",
   "language": "python",
   "name": "python3"
  },
  "language_info": {
   "codemirror_mode": {
    "name": "ipython",
    "version": 2
   },
   "file_extension": ".py",
   "mimetype": "text/x-python",
   "name": "python",
   "nbconvert_exporter": "python",
   "pygments_lexer": "ipython2",
   "version": "2.7.6"
  }
 },
 "nbformat": 4,
 "nbformat_minor": 0
}
